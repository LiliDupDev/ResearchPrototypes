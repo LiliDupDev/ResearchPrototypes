{
 "cells": [
  {
   "cell_type": "code",
   "execution_count": 1,
   "metadata": {},
   "outputs": [],
   "source": [
    "import pandas as pd\n",
    "import numpy as np\n",
    "\n",
    "import matplotlib.pyplot as plt\n",
    "\n",
    "from sklearn.cluster import KMeans\n",
    "from sklearn.metrics import silhouette_score"
   ]
  },
  {
   "cell_type": "markdown",
   "metadata": {},
   "source": [
    "# K-means"
   ]
  },
  {
   "cell_type": "code",
   "execution_count": 2,
   "metadata": {},
   "outputs": [],
   "source": [
    "# Currently, this dataset is too short for cluster algorithms but the idea is to let it ready for bigger datasets.\n",
    "# ** means is a parameter to be changed with different datasets\n",
    "\n",
    "# Load Data\n",
    "f_name = \"LocationData/store_cordinates.csv\"   # **\n",
    "df_stores = pd.read_csv(f_name)\n",
    "\n",
    "store_coordinates = df_stores[['X','Y']]\n",
    "stores = df_stores[['X','Y','Lugar']]          # **\n"
   ]
  },
  {
   "cell_type": "code",
   "execution_count": 3,
   "metadata": {},
   "outputs": [
    {
     "data": {
      "image/png": "[encoded data removed]",
      "text/plain": [
       "<Figure size 864x576 with 1 Axes>"
      ]
     },
     "metadata": {
      "needs_background": "light"
     },
     "output_type": "display_data"
    }
   ],
   "source": [
    "# Througth elbow method we determined an estimated number of clusters\n",
    "distortions = []\n",
    "K = range(1,5)    # **\n",
    "for k in K:\n",
    "    kmeansModel = KMeans(n_clusters=k)\n",
    "    kmeansModel = kmeansModel.fit(store_coordinates)\n",
    "    distortions.append(kmeansModel.inertia_)\n",
    "\n",
    "fig, ax = plt.subplots(figsize=(12, 8))\n",
    "plt.plot(K, distortions, marker='o')\n",
    "plt.xlabel('k')\n",
    "plt.ylabel('Distortions')\n",
    "plt.title('Elbow Method For Optimal k')\n",
    "plt.savefig('elbow.png')\n",
    "plt.show()"
   ]
  },
  {
   "cell_type": "code",
   "execution_count": 4,
   "metadata": {},
   "outputs": [],
   "source": [
    "# silhouette_score to evaluate dissimilarity\n",
    "\n",
    "sil = []\n",
    "kmax = 3    # ** Clusters\n",
    "\n",
    "# dissimilarity would not be defined for a single cluster, thus, minimum number of clusters should be 2\n",
    "for k in range(2, kmax+1):\n",
    "    kmeans = KMeans(n_clusters = k).fit(store_coordinates)\n",
    "    labels = kmeans.labels_\n",
    "    sil.append(silhouette_score(store_coordinates, labels, metric = 'euclidean'))\n",
    "    \n",
    "    \n",
    "clusters = 3"
   ]
  },
  {
   "cell_type": "code",
   "execution_count": 5,
   "metadata": {},
   "outputs": [
    {
     "name": "stdout",
     "output_type": "stream",
     "text": [
      "k = 4  silhouette_score  0.29753425106811326\n"
     ]
    }
   ],
   "source": [
    "#K-means algorithm\n",
    "means = KMeans(n_clusters=clusters, init='k-means++')    # **\n",
    "kmeans.fit(store_coordinates)\n",
    "y = kmeans.labels_\n",
    "print(\"k = 4\", \" silhouette_score \", silhouette_score(store_coordinates, y, metric='euclidean'))"
   ]
  },
  {
   "cell_type": "code",
   "execution_count": 6,
   "metadata": {},
   "outputs": [
    {
     "name": "stderr",
     "output_type": "stream",
     "text": [
      "C:\\Users\\Lili\\Anaconda3\\lib\\site-packages\\ipykernel_launcher.py:7: SettingWithCopyWarning: \n",
      "A value is trying to be set on a copy of a slice from a DataFrame.\n",
      "Try using .loc[row_indexer,col_indexer] = value instead\n",
      "\n",
      "See the caveats in the documentation: http://pandas.pydata.org/pandas-docs/stable/user_guide/indexing.html#returning-a-view-versus-a-copy\n",
      "  import sys\n"
     ]
    }
   ],
   "source": [
    "# Saving results in files\n",
    "# This part generates clusters+1 files, 1 file per cluster and a file with k_means. \n",
    "# This can be changed to work with a databse directly.\n",
    "\n",
    "# Add labels to dataset\n",
    "k_labels = np.asarray(kmeans.labels_)\n",
    "stores['cluster'] = k_labels\n",
    "\n",
    "\n",
    "# Save K-means\n",
    "k_means_matrix = np.asarray(kmeans.cluster_centers_)\n",
    "df_means = pd.DataFrame(data=k_means_matrix, index= np.unique(k_labels), columns=[\"Longitude\",\"Latitude\"])\n",
    "df_means.to_csv(\"LocationData/Results/k_means.csv\")\n",
    "\n",
    "# Save each store in their respective cluster\n",
    "f_cluster = \"LocationData/Results/Cluster_\"\n",
    "f_cluster_sufix = \".csv\"\n",
    "\n",
    "for i_index in np.unique(k_labels):\n",
    "    file_name=f_cluster+str(i_index)+f_cluster_sufix\n",
    "    cluster_query=stores.query(\"cluster==\"+str(i_index))\n",
    "    cluster_query.to_csv(file_name,index=False)\n",
    "\n"
   ]
  },
  {
   "cell_type": "markdown",
   "metadata": {},
   "source": [
    "# Recommendation algorithm"
   ]
  },
  {
   "cell_type": "code",
   "execution_count": 7,
   "metadata": {},
   "outputs": [],
   "source": [
    "# Load K-means since we only need the mean to evaluate which cluster is closer to a given coordinate\n",
    "\n",
    "f_name = \"LocationData/Results/k_means.csv\"     # **\n",
    "clusters_directory = \"LocationData/Results/\"\n",
    "df_centers = pd.read_csv(f_name,index_col=0)\n",
    "\n"
   ]
  },
  {
   "cell_type": "code",
   "execution_count": 8,
   "metadata": {},
   "outputs": [],
   "source": [
    "from geopy.distance import geodesic \n",
    "\n",
    "# Coordinate system must use WGS-84\n",
    "class Recommendation:\n",
    "    \n",
    "    # f_name: Datasource file in CSV\n",
    "    # cluster_directory: Directory that contains the clusters' data\n",
    "    def __init__(self, f_name, cluster_directory):\n",
    "        self.centers = pd.read_csv(f_name,index_col=0)\n",
    "        \n",
    "    def get_distance_list(self, coordinates):\n",
    "        source = coordinates\n",
    "        \n",
    "        distance_list = list()\n",
    "        # Calculate distance to means to find a cluster for searching\n",
    "        for center in self.centers.values:\n",
    "            target = (center[1],center[0])\n",
    "            distance_list.append(geodesic(source, target, ellipsoid='WGS-84').km)  \n",
    "            \n",
    "        return distance_list\n",
    "         \n",
    "    # places: an integer that indicates the maximum number of places to be returned as recommendations\n",
    "    def get_recommendation_list(self, places, latitude, longitud):\n",
    "        coordinates = (latitude, longitud)\n",
    "        distance_list = self.get_distance_list(coordinates)\n",
    "        "
   ]
  },
  {
   "cell_type": "code",
   "execution_count": 9,
   "metadata": {},
   "outputs": [],
   "source": [
    "rec=Recommendation(f_name,clusters_directory)\n",
    "ll= rec.get_distance_list((20.67715178768269, -103.43001294075434))\n",
    "\n",
    "\n"
   ]
  },
  {
   "cell_type": "code",
   "execution_count": 10,
   "metadata": {},
   "outputs": [
    {
     "data": {
      "text/plain": [
       "[0.725102620634625, 0.0900345829409648, 0.28558385570845934]"
      ]
     },
     "execution_count": 10,
     "metadata": {},
     "output_type": "execute_result"
    }
   ],
   "source": [
    "ll"
   ]
  },
  {
   "cell_type": "code",
   "execution_count": null,
   "metadata": {},
   "outputs": [],
   "source": []
  }
 ],
 "metadata": {
  "kernelspec": {
   "display_name": "Python 3",
   "language": "python",
   "name": "python3"
  },
  "language_info": {
   "codemirror_mode": {
    "name": "ipython",
    "version": 3
   },
   "file_extension": ".py",
   "mimetype": "text/x-python",
   "name": "python",
   "nbconvert_exporter": "python",
   "pygments_lexer": "ipython3",
   "version": "3.7.4"
  }
 },
 "nbformat": 4,
 "nbformat_minor": 2
}
